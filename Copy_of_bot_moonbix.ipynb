{
  "nbformat": 4,
  "nbformat_minor": 0,
  "metadata": {
    "colab": {
      "provenance": [],
      "include_colab_link": true
    },
    "kernelspec": {
      "name": "python3",
      "display_name": "Python 3"
    },
    "language_info": {
      "name": "python"
    },
    "widgets": {
      "application/vnd.jupyter.widget-state+json": {
        "6885965979234002b28b4505a6e02b67": {
          "model_module": "@jupyter-widgets/controls",
          "model_name": "LabelModel",
          "model_module_version": "1.5.0",
          "state": {
            "_dom_classes": [],
            "_model_module": "@jupyter-widgets/controls",
            "_model_module_version": "1.5.0",
            "_model_name": "LabelModel",
            "_view_count": null,
            "_view_module": "@jupyter-widgets/controls",
            "_view_module_version": "1.5.0",
            "_view_name": "LabelView",
            "description": "",
            "description_tooltip": null,
            "layout": "IPY_MODEL_92adf12fe3bf4a3cbfdd69489556639f",
            "placeholder": "​",
            "style": "IPY_MODEL_09956cc4c49e4d89981771531c5b14d9",
            "value": ""
          }
        },
        "92adf12fe3bf4a3cbfdd69489556639f": {
          "model_module": "@jupyter-widgets/base",
          "model_name": "LayoutModel",
          "model_module_version": "1.2.0",
          "state": {
            "_model_module": "@jupyter-widgets/base",
            "_model_module_version": "1.2.0",
            "_model_name": "LayoutModel",
            "_view_count": null,
            "_view_module": "@jupyter-widgets/base",
            "_view_module_version": "1.2.0",
            "_view_name": "LayoutView",
            "align_content": null,
            "align_items": null,
            "align_self": null,
            "border": null,
            "bottom": null,
            "display": null,
            "flex": null,
            "flex_flow": null,
            "grid_area": null,
            "grid_auto_columns": null,
            "grid_auto_flow": null,
            "grid_auto_rows": null,
            "grid_column": null,
            "grid_gap": null,
            "grid_row": null,
            "grid_template_areas": null,
            "grid_template_columns": null,
            "grid_template_rows": null,
            "height": null,
            "justify_content": null,
            "justify_items": null,
            "left": null,
            "margin": null,
            "max_height": null,
            "max_width": null,
            "min_height": null,
            "min_width": null,
            "object_fit": null,
            "object_position": null,
            "order": null,
            "overflow": null,
            "overflow_x": null,
            "overflow_y": null,
            "padding": null,
            "right": null,
            "top": null,
            "visibility": null,
            "width": null
          }
        },
        "09956cc4c49e4d89981771531c5b14d9": {
          "model_module": "@jupyter-widgets/controls",
          "model_name": "DescriptionStyleModel",
          "model_module_version": "1.5.0",
          "state": {
            "_model_module": "@jupyter-widgets/controls",
            "_model_module_version": "1.5.0",
            "_model_name": "DescriptionStyleModel",
            "_view_count": null,
            "_view_module": "@jupyter-widgets/base",
            "_view_module_version": "1.2.0",
            "_view_name": "StyleView",
            "description_width": ""
          }
        },
        "c8f6dc9282444e81bcfb051b31ca18b0": {
          "model_module": "@jupyter-widgets/controls",
          "model_name": "LabelModel",
          "model_module_version": "1.5.0",
          "state": {
            "_dom_classes": [],
            "_model_module": "@jupyter-widgets/controls",
            "_model_module_version": "1.5.0",
            "_model_name": "LabelModel",
            "_view_count": null,
            "_view_module": "@jupyter-widgets/controls",
            "_view_module_version": "1.5.0",
            "_view_name": "LabelView",
            "description": "",
            "description_tooltip": null,
            "layout": "IPY_MODEL_dfbd7f5668ed465db2b866bab12d09f8",
            "placeholder": "​",
            "style": "IPY_MODEL_f2fb5131e39848ef83767187ba8eaa41",
            "value": ""
          }
        },
        "dfbd7f5668ed465db2b866bab12d09f8": {
          "model_module": "@jupyter-widgets/base",
          "model_name": "LayoutModel",
          "model_module_version": "1.2.0",
          "state": {
            "_model_module": "@jupyter-widgets/base",
            "_model_module_version": "1.2.0",
            "_model_name": "LayoutModel",
            "_view_count": null,
            "_view_module": "@jupyter-widgets/base",
            "_view_module_version": "1.2.0",
            "_view_name": "LayoutView",
            "align_content": null,
            "align_items": null,
            "align_self": null,
            "border": null,
            "bottom": null,
            "display": null,
            "flex": null,
            "flex_flow": null,
            "grid_area": null,
            "grid_auto_columns": null,
            "grid_auto_flow": null,
            "grid_auto_rows": null,
            "grid_column": null,
            "grid_gap": null,
            "grid_row": null,
            "grid_template_areas": null,
            "grid_template_columns": null,
            "grid_template_rows": null,
            "height": null,
            "justify_content": null,
            "justify_items": null,
            "left": null,
            "margin": null,
            "max_height": null,
            "max_width": null,
            "min_height": null,
            "min_width": null,
            "object_fit": null,
            "object_position": null,
            "order": null,
            "overflow": null,
            "overflow_x": null,
            "overflow_y": null,
            "padding": null,
            "right": null,
            "top": null,
            "visibility": null,
            "width": null
          }
        },
        "f2fb5131e39848ef83767187ba8eaa41": {
          "model_module": "@jupyter-widgets/controls",
          "model_name": "DescriptionStyleModel",
          "model_module_version": "1.5.0",
          "state": {
            "_model_module": "@jupyter-widgets/controls",
            "_model_module_version": "1.5.0",
            "_model_name": "DescriptionStyleModel",
            "_view_count": null,
            "_view_module": "@jupyter-widgets/base",
            "_view_module_version": "1.2.0",
            "_view_name": "StyleView",
            "description_width": ""
          }
        },
        "04fbdb9f10fa4d0a93eb652102fb351a": {
          "model_module": "@jupyter-widgets/controls",
          "model_name": "LabelModel",
          "model_module_version": "1.5.0",
          "state": {
            "_dom_classes": [],
            "_model_module": "@jupyter-widgets/controls",
            "_model_module_version": "1.5.0",
            "_model_name": "LabelModel",
            "_view_count": null,
            "_view_module": "@jupyter-widgets/controls",
            "_view_module_version": "1.5.0",
            "_view_name": "LabelView",
            "description": "",
            "description_tooltip": null,
            "layout": "IPY_MODEL_befd9d64ebc34e37a6ab70a3f648fb23",
            "placeholder": "​",
            "style": "IPY_MODEL_9994ec747351495aace0c5bdb6c2b389",
            "value": ""
          }
        },
        "befd9d64ebc34e37a6ab70a3f648fb23": {
          "model_module": "@jupyter-widgets/base",
          "model_name": "LayoutModel",
          "model_module_version": "1.2.0",
          "state": {
            "_model_module": "@jupyter-widgets/base",
            "_model_module_version": "1.2.0",
            "_model_name": "LayoutModel",
            "_view_count": null,
            "_view_module": "@jupyter-widgets/base",
            "_view_module_version": "1.2.0",
            "_view_name": "LayoutView",
            "align_content": null,
            "align_items": null,
            "align_self": null,
            "border": null,
            "bottom": null,
            "display": null,
            "flex": null,
            "flex_flow": null,
            "grid_area": null,
            "grid_auto_columns": null,
            "grid_auto_flow": null,
            "grid_auto_rows": null,
            "grid_column": null,
            "grid_gap": null,
            "grid_row": null,
            "grid_template_areas": null,
            "grid_template_columns": null,
            "grid_template_rows": null,
            "height": null,
            "justify_content": null,
            "justify_items": null,
            "left": null,
            "margin": null,
            "max_height": null,
            "max_width": null,
            "min_height": null,
            "min_width": null,
            "object_fit": null,
            "object_position": null,
            "order": null,
            "overflow": null,
            "overflow_x": null,
            "overflow_y": null,
            "padding": null,
            "right": null,
            "top": null,
            "visibility": null,
            "width": null
          }
        },
        "9994ec747351495aace0c5bdb6c2b389": {
          "model_module": "@jupyter-widgets/controls",
          "model_name": "DescriptionStyleModel",
          "model_module_version": "1.5.0",
          "state": {
            "_model_module": "@jupyter-widgets/controls",
            "_model_module_version": "1.5.0",
            "_model_name": "DescriptionStyleModel",
            "_view_count": null,
            "_view_module": "@jupyter-widgets/base",
            "_view_module_version": "1.2.0",
            "_view_name": "StyleView",
            "description_width": ""
          }
        }
      }
    }
  },
  "cells": [
    {
      "cell_type": "markdown",
      "metadata": {
        "id": "view-in-github",
        "colab_type": "text"
      },
      "source": [
        "<a href=\"https://colab.research.google.com/github/omaker/botnew/blob/main/Copy_of_bot_moonbix.ipynb\" target=\"_parent\"><img src=\"https://colab.research.google.com/assets/colab-badge.svg\" alt=\"Open In Colab\"/></a>"
      ]
    },
    {
      "cell_type": "code",
      "source": [
        "if __name__ == \"__main__\":\n",
        "    main()"
      ],
      "metadata": {
        "colab": {
          "base_uri": "https://localhost:8080/",
          "height": 778,
          "referenced_widgets": [
            "6885965979234002b28b4505a6e02b67",
            "92adf12fe3bf4a3cbfdd69489556639f",
            "09956cc4c49e4d89981771531c5b14d9",
            "c8f6dc9282444e81bcfb051b31ca18b0",
            "dfbd7f5668ed465db2b866bab12d09f8",
            "f2fb5131e39848ef83767187ba8eaa41",
            "04fbdb9f10fa4d0a93eb652102fb351a",
            "befd9d64ebc34e37a6ab70a3f648fb23",
            "9994ec747351495aace0c5bdb6c2b389"
          ]
        },
        "id": "yho3-OG8rnrF",
        "outputId": "c7ed81a7-4f0b-4296-af8b-4b798090caca"
      },
      "execution_count": 8,
      "outputs": [
        {
          "output_type": "stream",
          "name": "stdout",
          "text": [
            "✅ tokens deleted\n",
            "\n",
            "        🤖  MOONBIX 1.0 🗿 MOONBIX 1.0 🤖\n",
            "\n",
            "        ✅ By : Fajar uhuy\n",
            "        ✅ Haha gratisan 🗿\n",
            "        \n",
            "✅ Total akun : 1\n",
            "Pakai proxy : False\n",
            "----------------------------------------------------------------------\n",
            "✅ Akun ke 1 [ @ ]\n",
            "✅ Sukses mendapatkan token \n",
            "🪙 Coin: 3785\n",
            "🎟️ Tiket: 1\n",
            "✅ Task sudah dikerjakan: Daily check-in | Hadiah: 100\n",
            "🚀 Memulai Task: Bind your Binance account\n",
            "🚀 Task Bind your Binance account : dimulai\n",
            "🎉 Task Bind your Binance account telah diklaim | Status: IN_PROGRESS | Hadiah: 10000\n",
            "✅ Task sudah dikerjakan: Share the campaign to your TG story | Hadiah: 500\n",
            "✅ Task sudah dikerjakan: Subscribe Binance Announcement TG Channel | Hadiah: 500\n",
            "✅ Task sudah dikerjakan: Subscribe to TG Game channel | Hadiah: 500\n",
            "🪙 Total Coin: 3785\n",
            "🎟️ Total Tiket: 1\n",
            "🕹️ Memulai game...\n",
            "✅ Permainan dimulai\n"
          ]
        },
        {
          "output_type": "display_data",
          "data": {
            "text/plain": [
              "Label(value='')"
            ],
            "application/vnd.jupyter.widget-view+json": {
              "version_major": 2,
              "version_minor": 0,
              "model_id": "6885965979234002b28b4505a6e02b67"
            }
          },
          "metadata": {}
        },
        {
          "output_type": "stream",
          "name": "stdout",
          "text": [
            "✅ Permainan selesai | Hadiah: 200 coin 🪙\n",
            "🎟️ Sisa tiket: 0\n"
          ]
        },
        {
          "output_type": "display_data",
          "data": {
            "text/plain": [
              "Label(value='')"
            ],
            "application/vnd.jupyter.widget-view+json": {
              "version_major": 2,
              "version_minor": 0,
              "model_id": "c8f6dc9282444e81bcfb051b31ca18b0"
            }
          },
          "metadata": {}
        },
        {
          "output_type": "stream",
          "name": "stdout",
          "text": [
            "❌ Tiket telah habis!\n",
            "----------------------------------------------------------------------\n"
          ]
        },
        {
          "output_type": "display_data",
          "data": {
            "text/plain": [
              "Label(value='')"
            ],
            "application/vnd.jupyter.widget-view+json": {
              "version_major": 2,
              "version_minor": 0,
              "model_id": "04fbdb9f10fa4d0a93eb652102fb351a"
            }
          },
          "metadata": {}
        },
        {
          "output_type": "stream",
          "name": "stdout",
          "text": [
            "⏳ Menunggu 1 jam sebelum menjalankan bot lagi...\n"
          ]
        },
        {
          "output_type": "error",
          "ename": "KeyboardInterrupt",
          "evalue": "",
          "traceback": [
            "\u001b[0;31m---------------------------------------------------------------------------\u001b[0m",
            "\u001b[0;31mKeyboardInterrupt\u001b[0m                         Traceback (most recent call last)",
            "\u001b[0;32m<ipython-input-8-972361fa1b80>\u001b[0m in \u001b[0;36m<cell line: 1>\u001b[0;34m()\u001b[0m\n\u001b[1;32m      1\u001b[0m \u001b[0;32mif\u001b[0m \u001b[0m__name__\u001b[0m \u001b[0;34m==\u001b[0m \u001b[0;34m\"__main__\"\u001b[0m\u001b[0;34m:\u001b[0m\u001b[0;34m\u001b[0m\u001b[0;34m\u001b[0m\u001b[0m\n\u001b[0;32m----> 2\u001b[0;31m     \u001b[0mmain\u001b[0m\u001b[0;34m(\u001b[0m\u001b[0;34m)\u001b[0m\u001b[0;34m\u001b[0m\u001b[0;34m\u001b[0m\u001b[0m\n\u001b[0m",
            "\u001b[0;32m<ipython-input-7-a4caa7df46b2>\u001b[0m in \u001b[0;36mmain\u001b[0;34m()\u001b[0m\n\u001b[1;32m     51\u001b[0m         \u001b[0;31m# Wait for 1 hour before restarting\u001b[0m\u001b[0;34m\u001b[0m\u001b[0;34m\u001b[0m\u001b[0m\n\u001b[1;32m     52\u001b[0m         \u001b[0mprint\u001b[0m\u001b[0;34m(\u001b[0m\u001b[0;34m\"⏳ Menunggu 1 jam sebelum menjalankan bot lagi...\"\u001b[0m\u001b[0;34m)\u001b[0m\u001b[0;34m\u001b[0m\u001b[0;34m\u001b[0m\u001b[0m\n\u001b[0;32m---> 53\u001b[0;31m         \u001b[0mtime\u001b[0m\u001b[0;34m.\u001b[0m\u001b[0msleep\u001b[0m\u001b[0;34m(\u001b[0m\u001b[0;36m3600\u001b[0m\u001b[0;34m)\u001b[0m\u001b[0;34m\u001b[0m\u001b[0;34m\u001b[0m\u001b[0m\n\u001b[0m",
            "\u001b[0;31mKeyboardInterrupt\u001b[0m: "
          ]
        }
      ]
    },
    {
      "cell_type": "code",
      "source": [
        "dat_query = [\n",
        "    \"user=%7B%22id%22%3A6871860791%2C%22first_name%22%3A%22%40%22%2C%22last_name%22%3A%22%22%2C%22username%22%3A%22ordiloz%22%2C%22language_code%22%3A%22en%22%2C%22allows_write_to_pm%22%3Atrue%7D&chat_instance=-8455413380032439877&chat_type=sender&auth_date=1727245396&hash=ec1c4bd41a87c2e4b18ecf823545dfbbff1072ec2c91eb3ca071eb3422075a31\",\n",
        "]"
      ],
      "metadata": {
        "id": "3aMCC9aW1Ck-"
      },
      "execution_count": 1,
      "outputs": []
    },
    {
      "cell_type": "code",
      "source": [
        "def main():\n",
        "    while True:\n",
        "        delete_tokens_file()\n",
        "        banner = f\"\"\"\n",
        "        🤖  MOONBIX 1.0 🗿 MOONBIX 1.0 🤖\n",
        "\n",
        "        ✅ By : Fajar uhuy\n",
        "        ✅ Haha gratisan 🗿\n",
        "        \"\"\"\n",
        "\n",
        "        print(banner)\n",
        "        datas = dat_query\n",
        "        proxies = \"\"\n",
        "        use_proxy = False\n",
        "        print(f\"✅ Total akun : {len(datas)}\")\n",
        "        print(f\"Pakai proxy : {use_proxy}\")\n",
        "        if len(datas) <= 0:\n",
        "            print(f\"❌ add data account in {dat_query} first\")\n",
        "            sys.exit()\n",
        "        print(garis)\n",
        "\n",
        "        for no, data in enumerate(datas):\n",
        "            data_parse = data_parsing(data)\n",
        "            user = json.loads(data_parse[\"user\"])\n",
        "            userid = user[\"id\"]\n",
        "            print(f\"✅ Akun ke {no + 1} [ {user['first_name']} {user['last_name']}]\")\n",
        "            access_token = get_local_token(userid)\n",
        "            failed_fetch_token = False\n",
        "            if access_token is False:\n",
        "                access_token = get_access_token(data)\n",
        "                if access_token is False:\n",
        "                    save_failed_token(userid, data)\n",
        "                    failed_fetch_token = True\n",
        "                    break\n",
        "                save_local_token(userid, access_token)\n",
        "            if failed_fetch_token:\n",
        "                continue\n",
        "            coin, ticket = get_user(access_token)\n",
        "\n",
        "            if ticket is None:\n",
        "                print(coin)\n",
        "                continue\n",
        "\n",
        "            print(f\"🪙 Coin: {coin}\")\n",
        "            print(f\"🎟️ Tiket: {ticket}\")\n",
        "            solve_tasks(access_token)\n",
        "            play_game_if_tickets_available(access_token)\n",
        "            print(garis)\n",
        "            countdown(1)\n",
        "\n",
        "        # Wait for 1 hour before restarting\n",
        "        print(\"⏳ Menunggu 1 jam sebelum menjalankan bot lagi...\")\n",
        "        time.sleep(3600)\n"
      ],
      "metadata": {
        "id": "bj0o3-pE1iox"
      },
      "execution_count": 7,
      "outputs": []
    }
  ]
}